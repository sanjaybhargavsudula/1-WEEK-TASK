{
 "cells": [
  {
   "cell_type": "code",
   "execution_count": null,
   "id": "8920a196",
   "metadata": {},
   "outputs": [],
   "source": []
  },
  {
   "cell_type": "code",
   "execution_count": null,
   "id": "11cfb131",
   "metadata": {},
   "outputs": [],
   "source": []
  },
  {
   "cell_type": "markdown",
   "id": "cf6b7503",
   "metadata": {},
   "source": [
    "# building model\n"
   ]
  },
  {
   "cell_type": "code",
   "execution_count": 12,
   "id": "26e19bf1",
   "metadata": {},
   "outputs": [
    {
     "name": "stdout",
     "output_type": "stream",
     "text": [
      "Model: \"sequential_7\"\n",
      "_________________________________________________________________\n",
      " Layer (type)                Output Shape              Param #   \n",
      "=================================================================\n",
      " conv2d_16 (Conv2D)          (None, 26, 26, 32)        320       \n",
      "                                                                 \n",
      " max_pooling2d_15 (MaxPoolin  (None, 13, 13, 32)       0         \n",
      " g2D)                                                            \n",
      "                                                                 \n",
      " conv2d_17 (Conv2D)          (None, 11, 11, 64)        18496     \n",
      "                                                                 \n",
      " max_pooling2d_16 (MaxPoolin  (None, 5, 5, 64)         0         \n",
      " g2D)                                                            \n",
      "                                                                 \n",
      " flatten_6 (Flatten)         (None, 1600)              0         \n",
      "                                                                 \n",
      " dense_12 (Dense)            (None, 64)                102464    \n",
      "                                                                 \n",
      " dense_13 (Dense)            (None, 10)                650       \n",
      "                                                                 \n",
      "=================================================================\n",
      "Total params: 121,930\n",
      "Trainable params: 121,930\n",
      "Non-trainable params: 0\n",
      "_________________________________________________________________\n"
     ]
    }
   ],
   "source": [
    "from tensorflow.keras import layers\n",
    "from tensorflow.keras import models\n",
    "from keras.datasets import mnist\n",
    "from keras.utils import to_categorical\n",
    "\n",
    "\n",
    "(train_images,train_labels),(test_images,test_labels) = mnist.load_data()\n",
    "\n",
    "\n",
    "\n",
    "#BUILDING MODEL\n",
    "\n",
    "\n",
    "model = models.Sequential()\n",
    "model.add(layers.Conv2D(32,(3,3),activation='relu',input_shape=(28,28,1)))\n",
    "model.add(layers.MaxPooling2D((2,2)))\n",
    "model.add(layers.Conv2D(64,(3,3),activation='relu'))\n",
    "model.add(layers.MaxPooling2D((2,2)))\n",
    "\n",
    "\n",
    "model.add(layers.Flatten())\n",
    "model.add(layers.Dense(64,activation='relu'))\n",
    "\n",
    "model.add(layers.Dense(10,activation='softmax'))\n",
    "\n",
    "model.summary()"
   ]
  },
  {
   "cell_type": "markdown",
   "id": "d1a127e2",
   "metadata": {},
   "source": [
    "# trainig the model"
   ]
  },
  {
   "cell_type": "code",
   "execution_count": 13,
   "id": "615b3965",
   "metadata": {},
   "outputs": [
    {
     "name": "stdout",
     "output_type": "stream",
     "text": [
      "Epoch 1/10\n",
      "938/938 [==============================] - 40s 40ms/step - loss: 0.3784 - accuracy: 0.9361\n",
      "Epoch 2/10\n",
      "938/938 [==============================] - 38s 41ms/step - loss: 0.0628 - accuracy: 0.9812\n",
      "Epoch 3/10\n",
      "938/938 [==============================] - 38s 41ms/step - loss: 0.0495 - accuracy: 0.9844\n",
      "Epoch 4/10\n",
      "938/938 [==============================] - 38s 41ms/step - loss: 0.0362 - accuracy: 0.9885\n",
      "Epoch 5/10\n",
      "938/938 [==============================] - 37s 40ms/step - loss: 0.0336 - accuracy: 0.9896\n",
      "Epoch 6/10\n",
      "938/938 [==============================] - 77s 82ms/step - loss: 0.0298 - accuracy: 0.9910\n",
      "Epoch 7/10\n",
      "938/938 [==============================] - 38s 40ms/step - loss: 0.0268 - accuracy: 0.9916\n",
      "Epoch 8/10\n",
      "938/938 [==============================] - 38s 40ms/step - loss: 0.0221 - accuracy: 0.9928\n",
      "Epoch 9/10\n",
      "938/938 [==============================] - 37s 40ms/step - loss: 0.0224 - accuracy: 0.9933\n",
      "Epoch 10/10\n",
      "938/938 [==============================] - 37s 40ms/step - loss: 0.0167 - accuracy: 0.9948\n",
      "313/313 [==============================] - 3s 9ms/step - loss: 0.0599 - accuracy: 0.9866\n",
      "0.9865999817848206\n"
     ]
    }
   ],
   "source": [
    "train_images = train_images.reshape((60000,28,28,1))\n",
    "\n",
    "#scaling of the data\n",
    "train_images.astype('float32')/255\n",
    "\n",
    "test_images=test_images.reshape((10000,28,28,1))\n",
    "\n",
    "test_images.astype('float32')/255\n",
    "\n",
    "\n",
    "train_labels = to_categorical(train_labels)\n",
    "test_labels = to_categorical(test_labels)\n",
    "\n",
    "\n",
    "model.compile(optimizer='adam', loss='categorical_crossentropy', metrics=['accuracy'])\n",
    "\n",
    "model.fit(train_images, train_labels, epochs=10, batch_size=64)\n",
    "\n",
    "test_loss, test_acc = model.evaluate(test_images, test_labels)\n",
    "\n",
    "print(test_acc)\n",
    "\n",
    "model.save('mnistdata.h5')  # for GUI purposes\n"
   ]
  },
  {
   "cell_type": "raw",
   "id": "64b3b4b0",
   "metadata": {},
   "source": []
  }
 ],
 "metadata": {
  "kernelspec": {
   "display_name": "Python 3 (ipykernel)",
   "language": "python",
   "name": "python3"
  },
  "language_info": {
   "codemirror_mode": {
    "name": "ipython",
    "version": 3
   },
   "file_extension": ".py",
   "mimetype": "text/x-python",
   "name": "python",
   "nbconvert_exporter": "python",
   "pygments_lexer": "ipython3",
   "version": "3.9.12"
  }
 },
 "nbformat": 4,
 "nbformat_minor": 5
}
